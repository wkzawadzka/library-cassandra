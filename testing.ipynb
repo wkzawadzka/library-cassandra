{
 "cells": [
  {
   "cell_type": "markdown",
   "metadata": {},
   "source": [
    "## Stress tests\n",
    "Stress Test 1: The client makes the same request very quickly min (10000 times).\n",
    "\n",
    "Stress Test 2: Two or more clients make the possible requests randomly (10000 times).\n",
    "\n",
    "Stress Test 3: Immediate occupancy of all seats/reservations by 2 clients. - Idea is we have one pool for reservation and 2 clients want to claim as much as possible. A situation where one client claims all is undesirable.\n",
    "\n",
    "Stress Test 4: Constant cancellations and seat occupancy. (For same seat 10000 times)\n",
    "\n",
    "Stress Test 5: Update of 1000 reservation. (For example change date for all reservation)"
   ]
  },
  {
   "cell_type": "code",
   "execution_count": null,
   "metadata": {},
   "outputs": [],
   "source": [
    "import api, setup\n",
    "import uuid\n",
    "import random\n",
    "import threading\n",
    "import time"
   ]
  },
  {
   "cell_type": "code",
   "execution_count": null,
   "metadata": {},
   "outputs": [],
   "source": [
    "setup()"
   ]
  },
  {
   "cell_type": "code",
   "execution_count": null,
   "metadata": {},
   "outputs": [],
   "source": [
    "num_repetitions = 10000"
   ]
  },
  {
   "cell_type": "code",
   "execution_count": null,
   "metadata": {},
   "outputs": [],
   "source": [
    "def stress_1():\n",
    "    user_id = uuid.uuid4()\n",
    "    book_id = uuid.uuid4()\n",
    "\n",
    "    num_reservations = 0\n",
    "    for i in range(num_repetitions):\n",
    "        reservation = api.make_reservation({user_id, book_id})\n",
    "        if reservation:\n",
    "            num_reservations += 1\n",
    "            print(f\"Reservation {reservation.id} made\")\n",
    "\n",
    "    api.delete_all_reservations()\n",
    "    print(f\"Made {num_reservations} reservations\")\n"
   ]
  },
  {
   "cell_type": "code",
   "execution_count": null,
   "metadata": {},
   "outputs": [],
   "source": [
    "def stress_2():\n",
    "    user_id1 = uuid.uuid4()\n",
    "    user_id2 = uuid.uuid4()\n",
    "    book_ids = [uuid.uuid4() for _ in range(1000)]\n",
    "\n",
    "    successful_reservations = {user_id1: 0, user_id2: 0}\n",
    "    unsuccessful_reservations = {user_id1: 0, user_id2: 0}\n",
    "\n",
    "    def make_reservation(user_id):\n",
    "        for i in range(num_repetitions):\n",
    "            book_id = random.choice(book_ids)\n",
    "            reservation = api.make_reservation({user_id, book_id})\n",
    "            if reservation:\n",
    "                successful_reservations[user_id] += 1\n",
    "            else:\n",
    "                unsuccessful_reservations[user_id] += 1\n",
    "\n",
    "    threads = []\n",
    "    for user_id in [user_id1, user_id2]:\n",
    "        t = threading.Thread(target = make_reservation, args = (user_id,))\n",
    "        t.start()\n",
    "        threads.append(t)\n",
    "        print(f\"Thread for user {user_id} started\")\n",
    "\n",
    "    for t in threads:\n",
    "        t.join()\n",
    "\n",
    "    api.delete_all_reservations()\n",
    "    print(f\"User 1 made {successful_reservations[user_id1]} successful reservations and {unsuccessful_reservations[user_id1]} unsuccessful reservations\")\n",
    "    print(f\"User 2 made {successful_reservations[user_id2]} successful reservations and {unsuccessful_reservations[user_id2]} unsuccessful reservations\")\n",
    "\n",
    "            \n"
   ]
  },
  {
   "cell_type": "code",
   "execution_count": null,
   "metadata": {},
   "outputs": [],
   "source": [
    "def stress_3():\n",
    "    user_id1 = uuid.uuid4()\n",
    "    user_id2 = uuid.uuid4()\n",
    "    book_ids = [uuid.uuid4() for _ in range(1000)]\n",
    "\n",
    "    successful_reservations = {user_id1: 0, user_id2: 0}\n",
    "    unsuccessful_reservations = {user_id1: 0, user_id2: 0}\n",
    "\n",
    "    def make_reservation(user_id):\n",
    "        for i in range(1000):\n",
    "            reservation = api.make_reservation({user_id, book_ids[i]})\n",
    "            if reservation:\n",
    "                successful_reservations[user_id] += 1\n",
    "                time.sleep(0.2)\n",
    "            else:\n",
    "                unsuccessful_reservations[user_id] += 1\n",
    "\n",
    "    threads = []\n",
    "    for user_id in [user_id1, user_id2]:\n",
    "        t = threading.Thread(target = make_reservation, args = (user_id,))\n",
    "        t.start()\n",
    "        threads.append(t)\n",
    "        print(f\"Thread for user {user_id} started\")\n",
    "\n",
    "    for t in threads:\n",
    "        t.join()\n",
    "\n",
    "    api.delete_all_reservations()\n",
    "    print(f\"User 1 made {successful_reservations[user_id1]} successful reservations and {unsuccessful_reservations[user_id1]} unsuccessful reservations\")\n",
    "    print(f\"User 2 made {successful_reservations[user_id2]} successful reservations and {unsuccessful_reservations[user_id2]} unsuccessful reservations\")\n",
    "\n",
    "    "
   ]
  },
  {
   "cell_type": "code",
   "execution_count": null,
   "metadata": {},
   "outputs": [],
   "source": [
    "def stress_4():\n",
    "    user_id1 = uuid.uuid4()\n",
    "    user_id2 = uuid.uuid4()\n",
    "    book_id = uuid.uuid4()\n",
    "\n",
    "    successful_reservations = {user_id1: 0, user_id2: 0}\n",
    "    unsuccessful_reservations = {user_id1: 0, user_id2: 0}\n",
    "\n",
    "    def make_reservation(user_id):\n",
    "        for i in range(num_repetitions):\n",
    "            reservation = api.make_reservation({user_id, book_id})\n",
    "            if reservation:\n",
    "                successful_reservations[user_id] += 1\n",
    "                time.sleep(random.uniform(0.05, 0.3))\n",
    "                api.delete_reservation(book_id)\n",
    "            else:\n",
    "                unsuccessful_reservations[user_id] += 1\n",
    "    \n",
    "    threads = []\n",
    "    for user_id in [user_id1, user_id2]:\n",
    "        t = threading.Thread(target = make_reservation, args = (user_id,))\n",
    "        t.start()\n",
    "        threads.append(t)\n",
    "        print(f\"Thread for user {user_id} started\")\n",
    "\n",
    "    for t in threads:\n",
    "        t.join()\n",
    "\n",
    "\n",
    "    api.delete_all_reservations()\n",
    "    print(f\"User 1 made {successful_reservations[user_id1]} successful reservations and {unsuccessful_reservations[user_id1]} unsuccessful reservations\")\n",
    "    print(f\"User 2 made {successful_reservations[user_id2]} successful reservations and {unsuccessful_reservations[user_id2]} unsuccessful reservations\")\n"
   ]
  },
  {
   "cell_type": "code",
   "execution_count": null,
   "metadata": {},
   "outputs": [],
   "source": [
    "def stress_5():\n",
    "    user_id = uuid.uuid4()\n",
    "    book_id = uuid.uuid4()\n",
    "\n",
    "    api.make_reservation({user_id, book_id})\n",
    "\n",
    "    successful_updates = 0\n",
    "\n",
    "    for i in range(num_repetitions):\n",
    "        new_user_id = uuid.uuid4()\n",
    "        new_book_id = uuid.uuid4()\n",
    "        update = api.update_reservation({book_id, new_user_id, new_book_id})\n",
    "        if update:\n",
    "            successful_updates += 1\n",
    "            book_id = new_book_id\n",
    "\n",
    "    api.delete_all_reservations()\n",
    "    print(f\"Made {successful_updates} updates\")"
   ]
  }
 ],
 "metadata": {
  "language_info": {
   "name": "python"
  }
 },
 "nbformat": 4,
 "nbformat_minor": 2
}
